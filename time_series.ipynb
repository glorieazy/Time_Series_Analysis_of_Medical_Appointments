{
 "cells": [
  {
   "cell_type": "code",
   "execution_count": 6,
   "source": [
    "import pandas as pd\n",
    "import sqlite3"
   ],
   "outputs": [],
   "metadata": {}
  },
  {
   "cell_type": "code",
   "execution_count": 7,
   "source": [
    "#load in the hospital dataset\n",
    "df = pd.read_csv('Hospital_patients_datasets.csv')"
   ],
   "outputs": [],
   "metadata": {}
  },
  {
   "cell_type": "code",
   "execution_count": 8,
   "source": [
    "#check the dataframe\n",
    "df.head()"
   ],
   "outputs": [
    {
     "output_type": "execute_result",
     "data": {
      "text/plain": [
       "      PatientId  AppointmentID Gender          ScheduledDay  \\\n",
       "0  2.987250e+13        5642903      F  2016-04-29T18:38:08Z   \n",
       "1  5.589980e+14        5642503      M  2016-04-29T16:08:27Z   \n",
       "2  4.262960e+12        5642549      F  2016-04-29T16:19:04Z   \n",
       "3  8.679510e+11        5642828      F  2016-04-29T17:29:31Z   \n",
       "4  8.841190e+12        5642494      F  2016-04-29T16:07:23Z   \n",
       "\n",
       "         AppointmentDay  Age      Neighbourhood  Scholarship  Hipertension  \\\n",
       "0  2016-04-29T00:00:00Z   62    JARDIM DA PENHA            0             1   \n",
       "1  2016-04-29T00:00:00Z   56    JARDIM DA PENHA            0             0   \n",
       "2  2016-04-29T00:00:00Z   62      MATA DA PRAIA            0             0   \n",
       "3  2016-04-29T00:00:00Z    8  PONTAL DE CAMBURI            0             0   \n",
       "4  2016-04-29T00:00:00Z   56    JARDIM DA PENHA            0             1   \n",
       "\n",
       "   Diabetes  Alcoholism  Handcap  SMS_received No-show  \n",
       "0         0           0        0             0      No  \n",
       "1         0           0        0             0      No  \n",
       "2         0           0        0             0      No  \n",
       "3         0           0        0             0      No  \n",
       "4         1           0        0             0      No  "
      ],
      "text/html": [
       "<div>\n",
       "<style scoped>\n",
       "    .dataframe tbody tr th:only-of-type {\n",
       "        vertical-align: middle;\n",
       "    }\n",
       "\n",
       "    .dataframe tbody tr th {\n",
       "        vertical-align: top;\n",
       "    }\n",
       "\n",
       "    .dataframe thead th {\n",
       "        text-align: right;\n",
       "    }\n",
       "</style>\n",
       "<table border=\"1\" class=\"dataframe\">\n",
       "  <thead>\n",
       "    <tr style=\"text-align: right;\">\n",
       "      <th></th>\n",
       "      <th>PatientId</th>\n",
       "      <th>AppointmentID</th>\n",
       "      <th>Gender</th>\n",
       "      <th>ScheduledDay</th>\n",
       "      <th>AppointmentDay</th>\n",
       "      <th>Age</th>\n",
       "      <th>Neighbourhood</th>\n",
       "      <th>Scholarship</th>\n",
       "      <th>Hipertension</th>\n",
       "      <th>Diabetes</th>\n",
       "      <th>Alcoholism</th>\n",
       "      <th>Handcap</th>\n",
       "      <th>SMS_received</th>\n",
       "      <th>No-show</th>\n",
       "    </tr>\n",
       "  </thead>\n",
       "  <tbody>\n",
       "    <tr>\n",
       "      <th>0</th>\n",
       "      <td>2.987250e+13</td>\n",
       "      <td>5642903</td>\n",
       "      <td>F</td>\n",
       "      <td>2016-04-29T18:38:08Z</td>\n",
       "      <td>2016-04-29T00:00:00Z</td>\n",
       "      <td>62</td>\n",
       "      <td>JARDIM DA PENHA</td>\n",
       "      <td>0</td>\n",
       "      <td>1</td>\n",
       "      <td>0</td>\n",
       "      <td>0</td>\n",
       "      <td>0</td>\n",
       "      <td>0</td>\n",
       "      <td>No</td>\n",
       "    </tr>\n",
       "    <tr>\n",
       "      <th>1</th>\n",
       "      <td>5.589980e+14</td>\n",
       "      <td>5642503</td>\n",
       "      <td>M</td>\n",
       "      <td>2016-04-29T16:08:27Z</td>\n",
       "      <td>2016-04-29T00:00:00Z</td>\n",
       "      <td>56</td>\n",
       "      <td>JARDIM DA PENHA</td>\n",
       "      <td>0</td>\n",
       "      <td>0</td>\n",
       "      <td>0</td>\n",
       "      <td>0</td>\n",
       "      <td>0</td>\n",
       "      <td>0</td>\n",
       "      <td>No</td>\n",
       "    </tr>\n",
       "    <tr>\n",
       "      <th>2</th>\n",
       "      <td>4.262960e+12</td>\n",
       "      <td>5642549</td>\n",
       "      <td>F</td>\n",
       "      <td>2016-04-29T16:19:04Z</td>\n",
       "      <td>2016-04-29T00:00:00Z</td>\n",
       "      <td>62</td>\n",
       "      <td>MATA DA PRAIA</td>\n",
       "      <td>0</td>\n",
       "      <td>0</td>\n",
       "      <td>0</td>\n",
       "      <td>0</td>\n",
       "      <td>0</td>\n",
       "      <td>0</td>\n",
       "      <td>No</td>\n",
       "    </tr>\n",
       "    <tr>\n",
       "      <th>3</th>\n",
       "      <td>8.679510e+11</td>\n",
       "      <td>5642828</td>\n",
       "      <td>F</td>\n",
       "      <td>2016-04-29T17:29:31Z</td>\n",
       "      <td>2016-04-29T00:00:00Z</td>\n",
       "      <td>8</td>\n",
       "      <td>PONTAL DE CAMBURI</td>\n",
       "      <td>0</td>\n",
       "      <td>0</td>\n",
       "      <td>0</td>\n",
       "      <td>0</td>\n",
       "      <td>0</td>\n",
       "      <td>0</td>\n",
       "      <td>No</td>\n",
       "    </tr>\n",
       "    <tr>\n",
       "      <th>4</th>\n",
       "      <td>8.841190e+12</td>\n",
       "      <td>5642494</td>\n",
       "      <td>F</td>\n",
       "      <td>2016-04-29T16:07:23Z</td>\n",
       "      <td>2016-04-29T00:00:00Z</td>\n",
       "      <td>56</td>\n",
       "      <td>JARDIM DA PENHA</td>\n",
       "      <td>0</td>\n",
       "      <td>1</td>\n",
       "      <td>1</td>\n",
       "      <td>0</td>\n",
       "      <td>0</td>\n",
       "      <td>0</td>\n",
       "      <td>No</td>\n",
       "    </tr>\n",
       "  </tbody>\n",
       "</table>\n",
       "</div>"
      ]
     },
     "metadata": {},
     "execution_count": 8
    }
   ],
   "metadata": {}
  },
  {
   "cell_type": "code",
   "execution_count": 9,
   "source": [
    "#check the info about the dataset\n",
    "df.info()"
   ],
   "outputs": [
    {
     "output_type": "stream",
     "name": "stdout",
     "text": [
      "<class 'pandas.core.frame.DataFrame'>\n",
      "RangeIndex: 110527 entries, 0 to 110526\n",
      "Data columns (total 14 columns):\n",
      " #   Column          Non-Null Count   Dtype  \n",
      "---  ------          --------------   -----  \n",
      " 0   PatientId       110527 non-null  float64\n",
      " 1   AppointmentID   110527 non-null  int64  \n",
      " 2   Gender          110527 non-null  object \n",
      " 3   ScheduledDay    110527 non-null  object \n",
      " 4   AppointmentDay  110527 non-null  object \n",
      " 5   Age             110527 non-null  int64  \n",
      " 6   Neighbourhood   110527 non-null  object \n",
      " 7   Scholarship     110527 non-null  int64  \n",
      " 8   Hipertension    110527 non-null  int64  \n",
      " 9   Diabetes        110527 non-null  int64  \n",
      " 10  Alcoholism      110527 non-null  int64  \n",
      " 11  Handcap         110527 non-null  int64  \n",
      " 12  SMS_received    110527 non-null  int64  \n",
      " 13  No-show         110527 non-null  object \n",
      "dtypes: float64(1), int64(8), object(5)\n",
      "memory usage: 11.8+ MB\n"
     ]
    }
   ],
   "metadata": {}
  },
  {
   "cell_type": "code",
   "execution_count": 10,
   "source": [
    "#check the shape of the dataset\n",
    "df.shape"
   ],
   "outputs": [
    {
     "output_type": "execute_result",
     "data": {
      "text/plain": [
       "(110527, 14)"
      ]
     },
     "metadata": {},
     "execution_count": 10
    }
   ],
   "metadata": {}
  },
  {
   "cell_type": "code",
   "execution_count": 11,
   "source": [
    "#check for null values and sum any\n",
    "df.isna().sum()"
   ],
   "outputs": [
    {
     "output_type": "execute_result",
     "data": {
      "text/plain": [
       "PatientId         0\n",
       "AppointmentID     0\n",
       "Gender            0\n",
       "ScheduledDay      0\n",
       "AppointmentDay    0\n",
       "Age               0\n",
       "Neighbourhood     0\n",
       "Scholarship       0\n",
       "Hipertension      0\n",
       "Diabetes          0\n",
       "Alcoholism        0\n",
       "Handcap           0\n",
       "SMS_received      0\n",
       "No-show           0\n",
       "dtype: int64"
      ]
     },
     "metadata": {},
     "execution_count": 11
    }
   ],
   "metadata": {}
  },
  {
   "cell_type": "code",
   "execution_count": 12,
   "source": [
    "#check for duplicates and some across all columns\n",
    "df[:].duplicated().sum()"
   ],
   "outputs": [
    {
     "output_type": "execute_result",
     "data": {
      "text/plain": [
       "0"
      ]
     },
     "metadata": {},
     "execution_count": 12
    }
   ],
   "metadata": {}
  },
  {
   "cell_type": "code",
   "execution_count": 13,
   "source": [
    "#convert the datatype of day columns to datetime\n",
    "df['ScheduledDay'] = pd.to_datetime(df['ScheduledDay']).dt.date.astype('datetime64[ns]')\n",
    "df['AppointmentDay'] = pd.to_datetime(df['AppointmentDay']).dt.date.astype('datetime64[ns]')"
   ],
   "outputs": [],
   "metadata": {}
  },
  {
   "cell_type": "code",
   "execution_count": 14,
   "source": [
    "#rename some particular columns\n",
    "df = df.rename( columns={'Hipertension': 'Hypertension',\n",
    "                         'Handcap': 'Handicap',\n",
    "                         'SMS_received': 'SMSRecevied',\n",
    "                         'No-show': 'NoShow'})"
   ],
   "outputs": [],
   "metadata": {}
  },
  {
   "cell_type": "code",
   "execution_count": 15,
   "source": [
    "# drop columns that are not of interest in the dataframe\n",
    "df.drop(['PatientId'], axis=1, inplace=True)\n",
    "df.drop(['AppointmentID'], axis=1, inplace=True)\n",
    "df.drop(['Neighbourhood'], axis=1, inplace=True)"
   ],
   "outputs": [],
   "metadata": {}
  },
  {
   "cell_type": "code",
   "execution_count": 16,
   "source": [
    "# drop age rows with 0 values\n",
    "df.drop(df[df['Age'] == 0].index, inplace=True)"
   ],
   "outputs": [],
   "metadata": {}
  },
  {
   "cell_type": "code",
   "execution_count": 17,
   "source": [
    "# Generating labels for age intervals (e.g., '1 - 20', '21 - 40', etc.)\n",
    "labels = [\"{0} - {1}\".format(i, i + 20) for i in range(1, 118, 20)]\n",
    "\n",
    "#create the bins\n",
    "bins = range(1, 130, 20)\n",
    "\n",
    "# use the cut function to categorize the age into groups\n",
    "df['Age_group'] = pd.cut(df['Age'], bins=bins, labels=labels, right=False)    "
   ],
   "outputs": [],
   "metadata": {}
  },
  {
   "cell_type": "code",
   "execution_count": 18,
   "source": [
    "# drop the Age column\n",
    "df.drop('Age', axis=1, inplace=True)"
   ],
   "outputs": [],
   "metadata": {}
  },
  {
   "cell_type": "code",
   "execution_count": 19,
   "source": [
    "# convert 'NoShow' values into binary values (1 for 'Yes' and 0 for 'No').\n",
    "df['NoShow'] = df['NoShow'].map({'Yes':1, 'No':0})"
   ],
   "outputs": [],
   "metadata": {}
  },
  {
   "cell_type": "code",
   "execution_count": 20,
   "source": [
    "# check the cleaned dataframe\n",
    "df.head()"
   ],
   "outputs": [
    {
     "output_type": "execute_result",
     "data": {
      "text/plain": [
       "  Gender ScheduledDay AppointmentDay  Scholarship  Hypertension  Diabetes  \\\n",
       "0      F   2016-04-29     2016-04-29            0             1         0   \n",
       "1      M   2016-04-29     2016-04-29            0             0         0   \n",
       "2      F   2016-04-29     2016-04-29            0             0         0   \n",
       "3      F   2016-04-29     2016-04-29            0             0         0   \n",
       "4      F   2016-04-29     2016-04-29            0             1         1   \n",
       "\n",
       "   Alcoholism  Handicap  SMSRecevied  NoShow Age_group  \n",
       "0           0         0            0       0   61 - 81  \n",
       "1           0         0            0       0   41 - 61  \n",
       "2           0         0            0       0   61 - 81  \n",
       "3           0         0            0       0    1 - 21  \n",
       "4           0         0            0       0   41 - 61  "
      ],
      "text/html": [
       "<div>\n",
       "<style scoped>\n",
       "    .dataframe tbody tr th:only-of-type {\n",
       "        vertical-align: middle;\n",
       "    }\n",
       "\n",
       "    .dataframe tbody tr th {\n",
       "        vertical-align: top;\n",
       "    }\n",
       "\n",
       "    .dataframe thead th {\n",
       "        text-align: right;\n",
       "    }\n",
       "</style>\n",
       "<table border=\"1\" class=\"dataframe\">\n",
       "  <thead>\n",
       "    <tr style=\"text-align: right;\">\n",
       "      <th></th>\n",
       "      <th>Gender</th>\n",
       "      <th>ScheduledDay</th>\n",
       "      <th>AppointmentDay</th>\n",
       "      <th>Scholarship</th>\n",
       "      <th>Hypertension</th>\n",
       "      <th>Diabetes</th>\n",
       "      <th>Alcoholism</th>\n",
       "      <th>Handicap</th>\n",
       "      <th>SMSRecevied</th>\n",
       "      <th>NoShow</th>\n",
       "      <th>Age_group</th>\n",
       "    </tr>\n",
       "  </thead>\n",
       "  <tbody>\n",
       "    <tr>\n",
       "      <th>0</th>\n",
       "      <td>F</td>\n",
       "      <td>2016-04-29</td>\n",
       "      <td>2016-04-29</td>\n",
       "      <td>0</td>\n",
       "      <td>1</td>\n",
       "      <td>0</td>\n",
       "      <td>0</td>\n",
       "      <td>0</td>\n",
       "      <td>0</td>\n",
       "      <td>0</td>\n",
       "      <td>61 - 81</td>\n",
       "    </tr>\n",
       "    <tr>\n",
       "      <th>1</th>\n",
       "      <td>M</td>\n",
       "      <td>2016-04-29</td>\n",
       "      <td>2016-04-29</td>\n",
       "      <td>0</td>\n",
       "      <td>0</td>\n",
       "      <td>0</td>\n",
       "      <td>0</td>\n",
       "      <td>0</td>\n",
       "      <td>0</td>\n",
       "      <td>0</td>\n",
       "      <td>41 - 61</td>\n",
       "    </tr>\n",
       "    <tr>\n",
       "      <th>2</th>\n",
       "      <td>F</td>\n",
       "      <td>2016-04-29</td>\n",
       "      <td>2016-04-29</td>\n",
       "      <td>0</td>\n",
       "      <td>0</td>\n",
       "      <td>0</td>\n",
       "      <td>0</td>\n",
       "      <td>0</td>\n",
       "      <td>0</td>\n",
       "      <td>0</td>\n",
       "      <td>61 - 81</td>\n",
       "    </tr>\n",
       "    <tr>\n",
       "      <th>3</th>\n",
       "      <td>F</td>\n",
       "      <td>2016-04-29</td>\n",
       "      <td>2016-04-29</td>\n",
       "      <td>0</td>\n",
       "      <td>0</td>\n",
       "      <td>0</td>\n",
       "      <td>0</td>\n",
       "      <td>0</td>\n",
       "      <td>0</td>\n",
       "      <td>0</td>\n",
       "      <td>1 - 21</td>\n",
       "    </tr>\n",
       "    <tr>\n",
       "      <th>4</th>\n",
       "      <td>F</td>\n",
       "      <td>2016-04-29</td>\n",
       "      <td>2016-04-29</td>\n",
       "      <td>0</td>\n",
       "      <td>1</td>\n",
       "      <td>1</td>\n",
       "      <td>0</td>\n",
       "      <td>0</td>\n",
       "      <td>0</td>\n",
       "      <td>0</td>\n",
       "      <td>41 - 61</td>\n",
       "    </tr>\n",
       "  </tbody>\n",
       "</table>\n",
       "</div>"
      ]
     },
     "metadata": {},
     "execution_count": 20
    }
   ],
   "metadata": {}
  },
  {
   "cell_type": "code",
   "execution_count": 21,
   "source": [
    "df['Age_group'].value_counts()"
   ],
   "outputs": [
    {
     "output_type": "execute_result",
     "data": {
      "text/plain": [
       "Age_group\n",
       "41 - 61      30081\n",
       "21 - 41      28835\n",
       "1 - 21       28309\n",
       "61 - 81      16910\n",
       "81 - 101      2845\n",
       "101 - 121        7\n",
       "Name: count, dtype: int64"
      ]
     },
     "metadata": {},
     "execution_count": 21
    }
   ],
   "metadata": {}
  },
  {
   "cell_type": "code",
   "execution_count": 61,
   "source": [
    "df['Gender'].value_counts()"
   ],
   "outputs": [
    {
     "output_type": "execute_result",
     "data": {
      "text/plain": [
       "Gender\n",
       "F    70119\n",
       "M    36869\n",
       "Name: count, dtype: int64"
      ]
     },
     "metadata": {},
     "execution_count": 61
    }
   ],
   "metadata": {}
  },
  {
   "cell_type": "code",
   "execution_count": 22,
   "source": [
    "df['NoShow'].value_counts()"
   ],
   "outputs": [
    {
     "output_type": "execute_result",
     "data": {
      "text/plain": [
       "NoShow\n",
       "0    85308\n",
       "1    21680\n",
       "Name: count, dtype: int64"
      ]
     },
     "metadata": {},
     "execution_count": 22
    }
   ],
   "metadata": {}
  },
  {
   "cell_type": "code",
   "execution_count": null,
   "source": [
    "# export the cleaned dataset and set the index=false\n",
    "df.to_csv('patients.csv', index=False) "
   ],
   "outputs": [],
   "metadata": {}
  },
  {
   "cell_type": "code",
   "execution_count": 2,
   "source": [
    "import sqlite3"
   ],
   "outputs": [],
   "metadata": {}
  },
  {
   "cell_type": "code",
   "execution_count": 3,
   "source": [
    "cnn = sqlite3.connect('jupyter_sql_tutorial.db')"
   ],
   "outputs": [],
   "metadata": {}
  },
  {
   "cell_type": "code",
   "execution_count": 23,
   "source": [
    "df.to_sql('patients', cnn)"
   ],
   "outputs": [
    {
     "output_type": "execute_result",
     "data": {
      "text/plain": [
       "106988"
      ]
     },
     "metadata": {},
     "execution_count": 23
    }
   ],
   "metadata": {}
  },
  {
   "cell_type": "code",
   "execution_count": 29,
   "source": [
    "%load_ext sql"
   ],
   "outputs": [],
   "metadata": {}
  },
  {
   "cell_type": "code",
   "execution_count": 30,
   "source": [
    "%sql sqlite:///jupyter_sql_tutorial.db"
   ],
   "outputs": [],
   "metadata": {}
  },
  {
   "cell_type": "markdown",
   "source": [
    "TASK 1: How many values are there in the given dataset?"
   ],
   "metadata": {}
  },
  {
   "cell_type": "code",
   "execution_count": 32,
   "source": [
    "%%sql\n",
    "\n",
    "SELECT COUNT(*) as count \n",
    "FROM patients"
   ],
   "outputs": [
    {
     "output_type": "stream",
     "name": "stdout",
     "text": [
      " * sqlite:///jupyter_sql_tutorial.db\n",
      "Done.\n"
     ]
    },
    {
     "output_type": "execute_result",
     "data": {
      "text/plain": [
       "[(106988,)]"
      ],
      "text/html": [
       "<table>\n",
       "    <thead>\n",
       "        <tr>\n",
       "            <th>count</th>\n",
       "        </tr>\n",
       "    </thead>\n",
       "    <tbody>\n",
       "        <tr>\n",
       "            <td>106988</td>\n",
       "        </tr>\n",
       "    </tbody>\n",
       "</table>"
      ]
     },
     "metadata": {},
     "execution_count": 32
    }
   ],
   "metadata": {}
  },
  {
   "cell_type": "markdown",
   "source": [
    "TASK 2: Count the number of appointments for each day in the given dataset:"
   ],
   "metadata": {}
  },
  {
   "cell_type": "code",
   "execution_count": 35,
   "source": [
    "%%sql\n",
    "\n",
    "SELECT \n",
    "            AppointmentDAY as appointmentday, count(AppointmentDAY) as total_appointment\n",
    "FROM \n",
    "            patients\n",
    "GROUP BY \n",
    "            1"
   ],
   "outputs": [
    {
     "output_type": "stream",
     "name": "stdout",
     "text": [
      " * sqlite:///jupyter_sql_tutorial.db\n",
      "Done.\n"
     ]
    },
    {
     "output_type": "execute_result",
     "data": {
      "text/plain": [
       "[('2016-04-29 00:00:00', 3104),\n",
       " ('2016-05-02 00:00:00', 4214),\n",
       " ('2016-05-03 00:00:00', 4129),\n",
       " ('2016-05-04 00:00:00', 4048),\n",
       " ('2016-05-05 00:00:00', 4113),\n",
       " ('2016-05-06 00:00:00', 3791),\n",
       " ('2016-05-09 00:00:00', 4352),\n",
       " ('2016-05-10 00:00:00', 4177),\n",
       " ('2016-05-11 00:00:00', 4347),\n",
       " ('2016-05-12 00:00:00', 4233),\n",
       " ('2016-05-13 00:00:00', 3885),\n",
       " ('2016-05-14 00:00:00', 39),\n",
       " ('2016-05-16 00:00:00', 4449),\n",
       " ('2016-05-17 00:00:00', 4227),\n",
       " ('2016-05-18 00:00:00', 4220),\n",
       " ('2016-05-19 00:00:00', 4109),\n",
       " ('2016-05-20 00:00:00', 3707),\n",
       " ('2016-05-24 00:00:00', 3876),\n",
       " ('2016-05-25 00:00:00', 3768),\n",
       " ('2016-05-30 00:00:00', 4360),\n",
       " ('2016-05-31 00:00:00', 4158),\n",
       " ('2016-06-01 00:00:00', 4351),\n",
       " ('2016-06-02 00:00:00', 4204),\n",
       " ('2016-06-03 00:00:00', 3978),\n",
       " ('2016-06-06 00:00:00', 4529),\n",
       " ('2016-06-07 00:00:00', 4264),\n",
       " ('2016-06-08 00:00:00', 4356)]"
      ],
      "text/html": [
       "<table>\n",
       "    <thead>\n",
       "        <tr>\n",
       "            <th>appointmentday</th>\n",
       "            <th>total_appointment</th>\n",
       "        </tr>\n",
       "    </thead>\n",
       "    <tbody>\n",
       "        <tr>\n",
       "            <td>2016-04-29 00:00:00</td>\n",
       "            <td>3104</td>\n",
       "        </tr>\n",
       "        <tr>\n",
       "            <td>2016-05-02 00:00:00</td>\n",
       "            <td>4214</td>\n",
       "        </tr>\n",
       "        <tr>\n",
       "            <td>2016-05-03 00:00:00</td>\n",
       "            <td>4129</td>\n",
       "        </tr>\n",
       "        <tr>\n",
       "            <td>2016-05-04 00:00:00</td>\n",
       "            <td>4048</td>\n",
       "        </tr>\n",
       "        <tr>\n",
       "            <td>2016-05-05 00:00:00</td>\n",
       "            <td>4113</td>\n",
       "        </tr>\n",
       "        <tr>\n",
       "            <td>2016-05-06 00:00:00</td>\n",
       "            <td>3791</td>\n",
       "        </tr>\n",
       "        <tr>\n",
       "            <td>2016-05-09 00:00:00</td>\n",
       "            <td>4352</td>\n",
       "        </tr>\n",
       "        <tr>\n",
       "            <td>2016-05-10 00:00:00</td>\n",
       "            <td>4177</td>\n",
       "        </tr>\n",
       "        <tr>\n",
       "            <td>2016-05-11 00:00:00</td>\n",
       "            <td>4347</td>\n",
       "        </tr>\n",
       "        <tr>\n",
       "            <td>2016-05-12 00:00:00</td>\n",
       "            <td>4233</td>\n",
       "        </tr>\n",
       "        <tr>\n",
       "            <td>2016-05-13 00:00:00</td>\n",
       "            <td>3885</td>\n",
       "        </tr>\n",
       "        <tr>\n",
       "            <td>2016-05-14 00:00:00</td>\n",
       "            <td>39</td>\n",
       "        </tr>\n",
       "        <tr>\n",
       "            <td>2016-05-16 00:00:00</td>\n",
       "            <td>4449</td>\n",
       "        </tr>\n",
       "        <tr>\n",
       "            <td>2016-05-17 00:00:00</td>\n",
       "            <td>4227</td>\n",
       "        </tr>\n",
       "        <tr>\n",
       "            <td>2016-05-18 00:00:00</td>\n",
       "            <td>4220</td>\n",
       "        </tr>\n",
       "        <tr>\n",
       "            <td>2016-05-19 00:00:00</td>\n",
       "            <td>4109</td>\n",
       "        </tr>\n",
       "        <tr>\n",
       "            <td>2016-05-20 00:00:00</td>\n",
       "            <td>3707</td>\n",
       "        </tr>\n",
       "        <tr>\n",
       "            <td>2016-05-24 00:00:00</td>\n",
       "            <td>3876</td>\n",
       "        </tr>\n",
       "        <tr>\n",
       "            <td>2016-05-25 00:00:00</td>\n",
       "            <td>3768</td>\n",
       "        </tr>\n",
       "        <tr>\n",
       "            <td>2016-05-30 00:00:00</td>\n",
       "            <td>4360</td>\n",
       "        </tr>\n",
       "        <tr>\n",
       "            <td>2016-05-31 00:00:00</td>\n",
       "            <td>4158</td>\n",
       "        </tr>\n",
       "        <tr>\n",
       "            <td>2016-06-01 00:00:00</td>\n",
       "            <td>4351</td>\n",
       "        </tr>\n",
       "        <tr>\n",
       "            <td>2016-06-02 00:00:00</td>\n",
       "            <td>4204</td>\n",
       "        </tr>\n",
       "        <tr>\n",
       "            <td>2016-06-03 00:00:00</td>\n",
       "            <td>3978</td>\n",
       "        </tr>\n",
       "        <tr>\n",
       "            <td>2016-06-06 00:00:00</td>\n",
       "            <td>4529</td>\n",
       "        </tr>\n",
       "        <tr>\n",
       "            <td>2016-06-07 00:00:00</td>\n",
       "            <td>4264</td>\n",
       "        </tr>\n",
       "        <tr>\n",
       "            <td>2016-06-08 00:00:00</td>\n",
       "            <td>4356</td>\n",
       "        </tr>\n",
       "    </tbody>\n",
       "</table>"
      ]
     },
     "metadata": {},
     "execution_count": 35
    }
   ],
   "metadata": {}
  },
  {
   "cell_type": "markdown",
   "source": [
    "TASK 3: Calculate the average number of appointments(Set to nearest whole number) per day in the given dataset."
   ],
   "metadata": {}
  },
  {
   "cell_type": "code",
   "execution_count": 38,
   "source": [
    "%%sql\n",
    "\n",
    "SELECT \n",
    "        ROUND(AVG(T1.count),0) as average_appointment\n",
    "\n",
    "FROM \n",
    "        (SELECT \n",
    "                AppointmentDAY as appointmentday, COUNT(AppointmentDAY) as count\n",
    "        FROM \n",
    "                patients\n",
    "        GROUP BY \n",
    "                1) as T1"
   ],
   "outputs": [
    {
     "output_type": "stream",
     "name": "stdout",
     "text": [
      " * sqlite:///jupyter_sql_tutorial.db\n",
      "Done.\n"
     ]
    },
    {
     "output_type": "execute_result",
     "data": {
      "text/plain": [
       "[(3963.0,)]"
      ],
      "text/html": [
       "<table>\n",
       "    <thead>\n",
       "        <tr>\n",
       "            <th>average_appointment</th>\n",
       "        </tr>\n",
       "    </thead>\n",
       "    <tbody>\n",
       "        <tr>\n",
       "            <td>3963.0</td>\n",
       "        </tr>\n",
       "    </tbody>\n",
       "</table>"
      ]
     },
     "metadata": {},
     "execution_count": 38
    }
   ],
   "metadata": {}
  },
  {
   "cell_type": "markdown",
   "source": [
    "TASK 4: Find the day with the highest number of appointments in the given dataset."
   ],
   "metadata": {}
  },
  {
   "cell_type": "code",
   "execution_count": 40,
   "source": [
    "%%sql\n",
    "\n",
    "SELECT \n",
    "        AppointmentDAY, COUNT(AppointmentDAY) as number_of_appointments\n",
    "FROM \n",
    "        patients\n",
    "GROUP BY \n",
    "        1\n",
    "HAVING \n",
    "        COUNT(AppointmentDAY) = (SELECT \n",
    "                                        MAX(T1.daycount) \n",
    "                                FROM \n",
    "                                        (SELECT \n",
    "                                                AppointmentDAY, COUNT(AppointmentDAY) as daycount\n",
    "                                        FROM \n",
    "                                                patients\n",
    "                                        GROUP BY \n",
    "                                                AppointmentDAY) as T1)\n"
   ],
   "outputs": [
    {
     "output_type": "stream",
     "name": "stdout",
     "text": [
      " * sqlite:///jupyter_sql_tutorial.db\n",
      "Done.\n"
     ]
    },
    {
     "output_type": "execute_result",
     "data": {
      "text/plain": [
       "[('2016-06-06 00:00:00', 4529)]"
      ],
      "text/html": [
       "<table>\n",
       "    <thead>\n",
       "        <tr>\n",
       "            <th>AppointmentDay</th>\n",
       "            <th>number_of_appointments</th>\n",
       "        </tr>\n",
       "    </thead>\n",
       "    <tbody>\n",
       "        <tr>\n",
       "            <td>2016-06-06 00:00:00</td>\n",
       "            <td>4529</td>\n",
       "        </tr>\n",
       "    </tbody>\n",
       "</table>"
      ]
     },
     "metadata": {},
     "execution_count": 40
    }
   ],
   "metadata": {}
  },
  {
   "cell_type": "markdown",
   "source": [
    "TASK 5: Calculate the monthly average number of appointments in the given dataset.\n",
    "#### Hint : Use 'DATE_FORMAT()' function."
   ],
   "metadata": {}
  },
  {
   "cell_type": "code",
   "execution_count": 54,
   "source": [
    "%%sql \n",
    "\n",
    "SELECT \n",
    "            STRFTIME('%Y-%m', AppointmentDay) AS year_and_month, AVG(STRFTIME('%Y-%m', AppointmentDay)) as monthly_avg\n",
    "FROM \n",
    "            patients\n",
    "GROUP BY \n",
    "            1"
   ],
   "outputs": [
    {
     "output_type": "stream",
     "name": "stdout",
     "text": [
      " * sqlite:///jupyter_sql_tutorial.db\n",
      "Done.\n"
     ]
    },
    {
     "output_type": "execute_result",
     "data": {
      "text/plain": [
       "[('2016-04', 2016.0), ('2016-05', 2016.0), ('2016-06', 2016.0)]"
      ],
      "text/html": [
       "<table>\n",
       "    <thead>\n",
       "        <tr>\n",
       "            <th>year_and_month</th>\n",
       "            <th>monthly_avg</th>\n",
       "        </tr>\n",
       "    </thead>\n",
       "    <tbody>\n",
       "        <tr>\n",
       "            <td>2016-04</td>\n",
       "            <td>2016.0</td>\n",
       "        </tr>\n",
       "        <tr>\n",
       "            <td>2016-05</td>\n",
       "            <td>2016.0</td>\n",
       "        </tr>\n",
       "        <tr>\n",
       "            <td>2016-06</td>\n",
       "            <td>2016.0</td>\n",
       "        </tr>\n",
       "    </tbody>\n",
       "</table>"
      ]
     },
     "metadata": {},
     "execution_count": 54
    }
   ],
   "metadata": {}
  },
  {
   "cell_type": "markdown",
   "source": [
    "TASK 6: Find the month with the highest number of appointments in the given dataset."
   ],
   "metadata": {}
  },
  {
   "cell_type": "code",
   "execution_count": 57,
   "source": [
    "%%sql\n",
    "\n",
    "SELECT \n",
    "        STRFTIME('%Y-%m', AppointmentDay) as month, \n",
    "        COUNT(AppointmentDAY) as appointment_no\n",
    "FROM \n",
    "        patients\n",
    "GROUP BY \n",
    "        1\n",
    "HAVING \n",
    "        COUNT(AppointmentDAY) = (SELECT \n",
    "                                        MAX(T1.daycount) \n",
    "                                FROM \n",
    "                                        (SELECT \n",
    "                                                STRFTIME('%Y-%m', AppointmentDay) AS year_and_month, \n",
    "                                                COUNT(AppointmentDAY) as daycount\n",
    "                                        FROM \n",
    "                                                patients\n",
    "                                        GROUP BY \n",
    "                                                year_and_month) as T1)"
   ],
   "outputs": [
    {
     "output_type": "stream",
     "name": "stdout",
     "text": [
      " * sqlite:///jupyter_sql_tutorial.db\n",
      "Done.\n"
     ]
    },
    {
     "output_type": "execute_result",
     "data": {
      "text/plain": [
       "[('2016-05', 78202)]"
      ],
      "text/html": [
       "<table>\n",
       "    <thead>\n",
       "        <tr>\n",
       "            <th>month</th>\n",
       "            <th>appointment_no</th>\n",
       "        </tr>\n",
       "    </thead>\n",
       "    <tbody>\n",
       "        <tr>\n",
       "            <td>2016-05</td>\n",
       "            <td>78202</td>\n",
       "        </tr>\n",
       "    </tbody>\n",
       "</table>"
      ]
     },
     "metadata": {},
     "execution_count": 57
    }
   ],
   "metadata": {}
  },
  {
   "cell_type": "markdown",
   "source": [
    "TASK 7: Calculate the weekly average number of appointments in the given dataset."
   ],
   "metadata": {}
  },
  {
   "cell_type": "code",
   "execution_count": 58,
   "source": [
    " %%sql \n",
    " \n",
    " SELECT \n",
    "        STRFTIME('%Y', AppointmentDay) AS year, \n",
    "        STRFTIME('%m', AppointmentDay) AS week, \n",
    "        COUNT(AppointmentDAY) as week_average\n",
    " FROM \n",
    "        patients\n",
    " GROUP BY \n",
    "        1,2"
   ],
   "outputs": [
    {
     "output_type": "stream",
     "name": "stdout",
     "text": [
      " * sqlite:///jupyter_sql_tutorial.db\n",
      "Done.\n"
     ]
    },
    {
     "output_type": "execute_result",
     "data": {
      "text/plain": [
       "[('2016', '04', 3104), ('2016', '05', 78202), ('2016', '06', 25682)]"
      ],
      "text/html": [
       "<table>\n",
       "    <thead>\n",
       "        <tr>\n",
       "            <th>year</th>\n",
       "            <th>week</th>\n",
       "            <th>week_average</th>\n",
       "        </tr>\n",
       "    </thead>\n",
       "    <tbody>\n",
       "        <tr>\n",
       "            <td>2016</td>\n",
       "            <td>04</td>\n",
       "            <td>3104</td>\n",
       "        </tr>\n",
       "        <tr>\n",
       "            <td>2016</td>\n",
       "            <td>05</td>\n",
       "            <td>78202</td>\n",
       "        </tr>\n",
       "        <tr>\n",
       "            <td>2016</td>\n",
       "            <td>06</td>\n",
       "            <td>25682</td>\n",
       "        </tr>\n",
       "    </tbody>\n",
       "</table>"
      ]
     },
     "metadata": {},
     "execution_count": 58
    }
   ],
   "metadata": {}
  },
  {
   "cell_type": "markdown",
   "source": [
    "TASK 8: Find the week with the highest number of appointments in the given dataset."
   ],
   "metadata": {}
  },
  {
   "cell_type": "code",
   "execution_count": 65,
   "source": [
    "%%sql\n",
    "\n",
    "SELECT \n",
    "        STRFTIME('%Y', AppointmentDay) as year, \n",
    "        STRFTIME('%w', AppointmentDay) as week, \n",
    "        COUNT(AppointmentDAY) as appointment_no\n",
    "FROM \n",
    "        patients\n",
    "GROUP BY \n",
    "        1,2\n",
    "HAVING \n",
    "        COUNT(AppointmentDAY) = (SELECT \n",
    "                                        MAX(T1.daycount) \n",
    "                                FROM \n",
    "                                        (SELECT \n",
    "                                                STRFTIME('%w', AppointmentDay) as week, \n",
    "                                                COUNT(AppointmentDAY) as daycount\n",
    "                                        FROM \n",
    "                                                patients\n",
    "                                        GROUP BY \n",
    "                                                1) as T1)\n",
    "      \n",
    "      \n",
    "      \n",
    "      \n"
   ],
   "outputs": [
    {
     "output_type": "stream",
     "name": "stdout",
     "text": [
      " * sqlite:///jupyter_sql_tutorial.db\n",
      "Done.\n"
     ]
    },
    {
     "output_type": "execute_result",
     "data": {
      "text/plain": [
       "[('2016', '3', 25090)]"
      ],
      "text/html": [
       "<table>\n",
       "    <thead>\n",
       "        <tr>\n",
       "            <th>year</th>\n",
       "            <th>week</th>\n",
       "            <th>appointment_no</th>\n",
       "        </tr>\n",
       "    </thead>\n",
       "    <tbody>\n",
       "        <tr>\n",
       "            <td>2016</td>\n",
       "            <td>3</td>\n",
       "            <td>25090</td>\n",
       "        </tr>\n",
       "    </tbody>\n",
       "</table>"
      ]
     },
     "metadata": {},
     "execution_count": 65
    }
   ],
   "metadata": {}
  },
  {
   "cell_type": "markdown",
   "source": [
    "TASK 9: What is the distribution of appointments based on gender in the dataset?"
   ],
   "metadata": {}
  },
  {
   "cell_type": "code",
   "execution_count": 68,
   "source": [
    "%%sql\n",
    "\n",
    "SELECT \n",
    "        Gender, count(Gender) as gender_count\n",
    "FROM \n",
    "        patients\n",
    "GROUP BY \n",
    "        1\n"
   ],
   "outputs": [
    {
     "output_type": "stream",
     "name": "stdout",
     "text": [
      " * sqlite:///jupyter_sql_tutorial.db\n",
      "Done.\n"
     ]
    },
    {
     "output_type": "execute_result",
     "data": {
      "text/plain": [
       "[('F', 70119), ('M', 36869)]"
      ],
      "text/html": [
       "<table>\n",
       "    <thead>\n",
       "        <tr>\n",
       "            <th>Gender</th>\n",
       "            <th>gender_count</th>\n",
       "        </tr>\n",
       "    </thead>\n",
       "    <tbody>\n",
       "        <tr>\n",
       "            <td>F</td>\n",
       "            <td>70119</td>\n",
       "        </tr>\n",
       "        <tr>\n",
       "            <td>M</td>\n",
       "            <td>36869</td>\n",
       "        </tr>\n",
       "    </tbody>\n",
       "</table>"
      ]
     },
     "metadata": {},
     "execution_count": 68
    }
   ],
   "metadata": {}
  },
  {
   "cell_type": "markdown",
   "source": [
    "TASK 10: Calculate the number of appointments per weekday in the given dataset. Order the appointment counts in descending.\n",
    "#### Hint : Use 'DAYNAME()' function.\n"
   ],
   "metadata": {}
  },
  {
   "cell_type": "code",
   "execution_count": 64,
   "source": [
    "%%sql \n",
    "\n",
    "SELECT \n",
    "        case cast(strftime('%w', AppointmentDay) as integer)\n",
    "           when 0 then 'Sunday'\n",
    "           when 1 then 'Monday'\n",
    "           when 2 then 'Tuesday'\n",
    "           when 3 then 'Wednesday'\n",
    "           when 4 then 'Thursday'\n",
    "           when 5 then 'Friday'\n",
    "           else 'Saturday' end as day,\n",
    "        count(*) as day_count\n",
    "FROM \n",
    "        patients\n",
    "GROUP BY \n",
    "        1\n",
    "ORDER BY \n",
    "        2 DESC"
   ],
   "outputs": [
    {
     "output_type": "stream",
     "name": "stdout",
     "text": [
      " * sqlite:///jupyter_sql_tutorial.db\n",
      "Done.\n"
     ]
    },
    {
     "output_type": "execute_result",
     "data": {
      "text/plain": [
       "[('Wednesday', 25090),\n",
       " ('Tuesday', 24831),\n",
       " ('Monday', 21904),\n",
       " ('Friday', 18465),\n",
       " ('Thursday', 16659),\n",
       " ('Saturday', 39)]"
      ],
      "text/html": [
       "<table>\n",
       "    <thead>\n",
       "        <tr>\n",
       "            <th>day</th>\n",
       "            <th>day_count</th>\n",
       "        </tr>\n",
       "    </thead>\n",
       "    <tbody>\n",
       "        <tr>\n",
       "            <td>Wednesday</td>\n",
       "            <td>25090</td>\n",
       "        </tr>\n",
       "        <tr>\n",
       "            <td>Tuesday</td>\n",
       "            <td>24831</td>\n",
       "        </tr>\n",
       "        <tr>\n",
       "            <td>Monday</td>\n",
       "            <td>21904</td>\n",
       "        </tr>\n",
       "        <tr>\n",
       "            <td>Friday</td>\n",
       "            <td>18465</td>\n",
       "        </tr>\n",
       "        <tr>\n",
       "            <td>Thursday</td>\n",
       "            <td>16659</td>\n",
       "        </tr>\n",
       "        <tr>\n",
       "            <td>Saturday</td>\n",
       "            <td>39</td>\n",
       "        </tr>\n",
       "    </tbody>\n",
       "</table>"
      ]
     },
     "metadata": {},
     "execution_count": 64
    }
   ],
   "metadata": {}
  },
  {
   "cell_type": "markdown",
   "source": [
    "TASK 11: Calculate the average time between scheduling and the appointment day in the given dataset. Set to nearest whole number"
   ],
   "metadata": {}
  },
  {
   "cell_type": "code",
   "execution_count": 67,
   "source": [
    "%%sql\n",
    "\n",
    "SELECT \n",
    "        ROUND(AVG(T1.time_diff),0) as avg_time\n",
    "FROM  \n",
    "        (SELECT \n",
    "                julianday(AppointmentDay) -  julianday(ScheduledDay) as time_diff\n",
    "\t\tFROM \n",
    "                patients) as T1"
   ],
   "outputs": [
    {
     "output_type": "stream",
     "name": "stdout",
     "text": [
      " * sqlite:///jupyter_sql_tutorial.db\n",
      "Done.\n"
     ]
    },
    {
     "output_type": "execute_result",
     "data": {
      "text/plain": [
       "[(10.0,)]"
      ],
      "text/html": [
       "<table>\n",
       "    <thead>\n",
       "        <tr>\n",
       "            <th>avg_time</th>\n",
       "        </tr>\n",
       "    </thead>\n",
       "    <tbody>\n",
       "        <tr>\n",
       "            <td>10.0</td>\n",
       "        </tr>\n",
       "    </tbody>\n",
       "</table>"
      ]
     },
     "metadata": {},
     "execution_count": 67
    }
   ],
   "metadata": {}
  }
 ],
 "metadata": {
  "kernelspec": {
   "name": "python3",
   "display_name": "Python 3.11.4 64-bit"
  },
  "language_info": {
   "codemirror_mode": {
    "name": "ipython",
    "version": 3
   },
   "file_extension": ".py",
   "mimetype": "text/x-python",
   "name": "python",
   "nbconvert_exporter": "python",
   "pygments_lexer": "ipython3",
   "version": "3.11.4"
  },
  "interpreter": {
   "hash": "20e40d8fc09a6690434ad602c7eb2d8de15d36ec466bfbfb0de97c7c540d7363"
  }
 },
 "nbformat": 4,
 "nbformat_minor": 5
}